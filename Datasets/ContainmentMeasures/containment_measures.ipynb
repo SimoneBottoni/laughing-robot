{
 "cells": [
  {
   "cell_type": "code",
   "execution_count": 5,
   "metadata": {},
   "outputs": [],
   "source": [
    "import pandas as pd"
   ]
  },
  {
   "cell_type": "code",
   "execution_count": 6,
   "metadata": {},
   "outputs": [],
   "source": [
    "dataset_measures = pd.read_csv(\"COVID 19 Containment measures data.csv\")"
   ]
  },
  {
   "cell_type": "code",
   "execution_count": 7,
   "metadata": {},
   "outputs": [],
   "source": [
    "#Prendiamo solo le colonne di nostro interesse e con pochi valori nulli\n",
    "measures = dataset_measures[[\"Country\", \"Date Start\", \"Keywords\"]].copy()\n",
    "\n",
    "#Elimianiamo le tuple con valori nulli in quantoprive di significato\n",
    "measures = measures.dropna(subset = [\"Country\", \"Date Start\", \"Keywords\"])\n",
    "\n",
    "#Trasformiamo la data in datetime per poter avere uno standard su cui eseguire operazioni\n",
    "measures[\"Date Start\"] = pd.to_datetime(measures[\"Date Start\"], format='%b %d, %Y')"
   ]
  },
  {
   "cell_type": "code",
   "execution_count": 8,
   "metadata": {},
   "outputs": [],
   "source": [
    "measures.to_csv(\"containment_measures_clean.csv\", index=False)"
   ]
  },
  {
   "cell_type": "code",
   "execution_count": null,
   "metadata": {},
   "outputs": [],
   "source": []
  }
 ],
 "metadata": {
  "kernelspec": {
   "display_name": "Python 3",
   "language": "python",
   "name": "python3"
  },
  "language_info": {
   "codemirror_mode": {
    "name": "ipython",
    "version": 3
   },
   "file_extension": ".py",
   "mimetype": "text/x-python",
   "name": "python",
   "nbconvert_exporter": "python",
   "pygments_lexer": "ipython3",
   "version": "3.7.6"
  }
 },
 "nbformat": 4,
 "nbformat_minor": 4
}
