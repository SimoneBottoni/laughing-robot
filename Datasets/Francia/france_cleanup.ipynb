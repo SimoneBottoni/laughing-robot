{
 "cells": [
  {
   "cell_type": "code",
   "execution_count": 11,
   "metadata": {},
   "outputs": [],
   "source": [
    "import pandas as pd"
   ]
  },
  {
   "cell_type": "code",
   "execution_count": 12,
   "metadata": {},
   "outputs": [],
   "source": [
    "#Carico i csv\n",
    "franciaDataset = pd.read_csv(\"france.csv\")\n",
    "\n",
    "#Cancello le colonne che non ritengo utili, ovvero codice città/paese/regione e la provenienza del dato\n",
    "franciaDataset.drop(columns=['maille_code','source_nom','source_url','source_type'],inplace=True)\n",
    "\n",
    "#Raggruppo date-granularite(ovvero regione/stato/provincia/ecc.)-maille_nom per tenere in considerazione solo il massimo valore \n",
    "#(vi sono dati duplicati in quanto vi sono più fonti di provenienza dei dati) in questo modo si eliminano i duplicati\n",
    "groupedFrancia = franciaDataset.groupby(['date','granularite','maille_nom'])[['cas_confirmes','deces','reanimation','hospitalises','gueris','depistes']].max()\n",
    "\n",
    "#Riempio i NaN con 0, poichè mancano i dati relativi a contagiati,ecc.\n",
    "groupedFrancia = groupedFrancia.fillna(0)\n",
    "\n",
    "#Salvo il csv\n",
    "groupedFrancia.to_csv('france_clean.csv', index=True)"
   ]
  },
  {
   "cell_type": "code",
   "execution_count": null,
   "metadata": {},
   "outputs": [],
   "source": []
  }
 ],
 "metadata": {
  "kernelspec": {
   "display_name": "Python 3",
   "language": "python",
   "name": "python3"
  },
  "language_info": {
   "codemirror_mode": {
    "name": "ipython",
    "version": 3
   },
   "file_extension": ".py",
   "mimetype": "text/x-python",
   "name": "python",
   "nbconvert_exporter": "python",
   "pygments_lexer": "ipython3",
   "version": "3.7.4"
  }
 },
 "nbformat": 4,
 "nbformat_minor": 4
}
