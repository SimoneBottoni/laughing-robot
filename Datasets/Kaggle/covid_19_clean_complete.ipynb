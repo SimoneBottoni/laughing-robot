{
 "cells": [
  {
   "cell_type": "code",
   "execution_count": 69,
   "metadata": {
    "scrolled": true
   },
   "outputs": [
    {
     "name": "stdout",
     "output_type": "stream",
     "text": [
      "  Province/State Country/Region      Lat      Long     Date  Confirmed  \\\n",
      "0            NaN       Thailand  15.0000  101.0000  1/22/20          2   \n",
      "1            NaN          Japan  36.0000  138.0000  1/22/20          2   \n",
      "2            NaN      Singapore   1.2833  103.8333  1/22/20          0   \n",
      "3            NaN          Nepal  28.1667   84.2500  1/22/20          0   \n",
      "4            NaN       Malaysia   2.5000  112.5000  1/22/20          0   \n",
      "\n",
      "   Deaths  Recovered  \n",
      "0       0          0  \n",
      "1       0          0  \n",
      "2       0          0  \n",
      "3       0          0  \n",
      "4       0          0  \n"
     ]
    }
   ],
   "source": [
    "import pandas as pd\n",
    "import numpy as np\n",
    "\n",
    "dataset = pd.read_csv(\"covid_19_clean_complete.csv\")\n",
    "df_dataset = pd.DataFrame(dataset)\n",
    "\n",
    "print(df_dataset.head())"
   ]
  },
  {
   "cell_type": "code",
   "execution_count": 70,
   "metadata": {},
   "outputs": [
    {
     "name": "stdout",
     "output_type": "stream",
     "text": [
      "Province/State    9882\n",
      "Country/Region       0\n",
      "Lat                  0\n",
      "Long                 0\n",
      "Date                 0\n",
      "Confirmed            0\n",
      "Deaths               0\n",
      "Recovered            0\n",
      "dtype: int64\n"
     ]
    }
   ],
   "source": [
    "null_counts = df_dataset.isnull().sum()\n",
    "null_counts[null_counts > 0].sort_values(ascending=False)\n",
    "print(null_counts)"
   ]
  },
  {
   "cell_type": "code",
   "execution_count": 71,
   "metadata": {},
   "outputs": [
    {
     "name": "stdout",
     "output_type": "stream",
     "text": [
      "(18056, 8)\n"
     ]
    }
   ],
   "source": [
    "print(df_dataset.shape)"
   ]
  },
  {
   "cell_type": "code",
   "execution_count": 72,
   "metadata": {},
   "outputs": [],
   "source": [
    "df_dataset = df_dataset.drop(columns=\"Lat\")\n",
    "df_dataset = df_dataset.drop(columns=\"Long\")"
   ]
  },
  {
   "cell_type": "code",
   "execution_count": 76,
   "metadata": {},
   "outputs": [
    {
     "name": "stdout",
     "output_type": "stream",
     "text": [
      "Province/State    object\n",
      "Country/Region    object\n",
      "Date              object\n",
      "Confirmed          int64\n",
      "Deaths             int64\n",
      "Recovered          int64\n",
      "dtype: object\n"
     ]
    }
   ],
   "source": [
    "print(df_dataset.dtypes)"
   ]
  },
  {
   "cell_type": "code",
   "execution_count": 77,
   "metadata": {},
   "outputs": [],
   "source": [
    "df_dataset[\"Date\"] = pd.to_datetime(df_dataset[\"Date\"], format='%m/%d/%y')"
   ]
  },
  {
   "cell_type": "code",
   "execution_count": 91,
   "metadata": {},
   "outputs": [
    {
     "name": "stdout",
     "output_type": "stream",
     "text": [
      "Province/State            object\n",
      "Country/Region            object\n",
      "Date              datetime64[ns]\n",
      "Confirmed                  int64\n",
      "Deaths                     int64\n",
      "Recovered                  int64\n",
      "dtype: object\n"
     ]
    }
   ],
   "source": [
    "print(df_dataset.dtypes)"
   ]
  },
  {
   "cell_type": "code",
   "execution_count": 92,
   "metadata": {},
   "outputs": [
    {
     "name": "stdout",
     "output_type": "stream",
     "text": [
      "           Province/State        Country/Region       Date  Confirmed  Deaths  \\\n",
      "0                Thailand              Thailand 2020-01-22          2       0   \n",
      "1                   Japan                 Japan 2020-01-22          2       0   \n",
      "2               Singapore             Singapore 2020-01-22          0       0   \n",
      "3                   Nepal                 Nepal 2020-01-22          0       0   \n",
      "4                Malaysia              Malaysia 2020-01-22          0       0   \n",
      "5        British Columbia                Canada 2020-01-22          0       0   \n",
      "6         New South Wales             Australia 2020-01-22          0       0   \n",
      "7                Victoria             Australia 2020-01-22          0       0   \n",
      "8              Queensland             Australia 2020-01-22          0       0   \n",
      "9                Cambodia              Cambodia 2020-01-22          0       0   \n",
      "10              Sri Lanka             Sri Lanka 2020-01-22          0       0   \n",
      "11                Germany               Germany 2020-01-22          0       0   \n",
      "12                Finland               Finland 2020-01-22          0       0   \n",
      "13   United Arab Emirates  United Arab Emirates 2020-01-22          0       0   \n",
      "14            Philippines           Philippines 2020-01-22          0       0   \n",
      "15                  India                 India 2020-01-22          0       0   \n",
      "16                  Italy                 Italy 2020-01-22          0       0   \n",
      "17                 Sweden                Sweden 2020-01-22          0       0   \n",
      "18                  Spain                 Spain 2020-01-22          0       0   \n",
      "19        South Australia             Australia 2020-01-22          0       0   \n",
      "20                Belgium               Belgium 2020-01-22          0       0   \n",
      "21                  Egypt                 Egypt 2020-01-22          0       0   \n",
      "22  From Diamond Princess             Australia 2020-01-22          0       0   \n",
      "23                Lebanon               Lebanon 2020-01-22          0       0   \n",
      "24                   Iraq                  Iraq 2020-01-22          0       0   \n",
      "25                   Oman                  Oman 2020-01-22          0       0   \n",
      "26            Afghanistan           Afghanistan 2020-01-22          0       0   \n",
      "27                Bahrain               Bahrain 2020-01-22          0       0   \n",
      "28                 Kuwait                Kuwait 2020-01-22          0       0   \n",
      "29                Algeria               Algeria 2020-01-22          0       0   \n",
      "\n",
      "    Recovered  \n",
      "0           0  \n",
      "1           0  \n",
      "2           0  \n",
      "3           0  \n",
      "4           0  \n",
      "5           0  \n",
      "6           0  \n",
      "7           0  \n",
      "8           0  \n",
      "9           0  \n",
      "10          0  \n",
      "11          0  \n",
      "12          0  \n",
      "13          0  \n",
      "14          0  \n",
      "15          0  \n",
      "16          0  \n",
      "17          0  \n",
      "18          0  \n",
      "19          0  \n",
      "20          0  \n",
      "21          0  \n",
      "22          0  \n",
      "23          0  \n",
      "24          0  \n",
      "25          0  \n",
      "26          0  \n",
      "27          0  \n",
      "28          0  \n",
      "29          0  \n"
     ]
    }
   ],
   "source": [
    "df_dataset[\"Province/State\"] = df_dataset[\"Province/State\"].fillna(df_dataset[\"Country/Region\"])\n",
    "print(df_dataset.head(30))"
   ]
  },
  {
   "cell_type": "code",
   "execution_count": 94,
   "metadata": {},
   "outputs": [
    {
     "name": "stdout",
     "output_type": "stream",
     "text": [
      "                                    Date  Confirmed\n",
      "Country/Region Province/State                      \n",
      "Afghanistan    Afghanistan    2020-03-22         40\n",
      "Albania        Albania        2020-03-22         89\n",
      "Algeria        Algeria        2020-03-22        201\n",
      "Andorra        Andorra        2020-03-22        113\n",
      "Angola         Angola         2020-03-22          2\n",
      "...                                  ...        ...\n",
      "Uzbekistan     Uzbekistan     2020-03-22         43\n",
      "Venezuela      Venezuela      2020-03-22         70\n",
      "Vietnam        Vietnam        2020-03-22        113\n",
      "Zambia         Zambia         2020-03-22          3\n",
      "Zimbabwe       Zimbabwe       2020-03-22          3\n",
      "\n",
      "[296 rows x 2 columns]\n"
     ]
    },
    {
     "name": "stderr",
     "output_type": "stream",
     "text": [
      "/opt/conda/lib/python3.7/site-packages/ipykernel_launcher.py:1: FutureWarning: Indexing with multiple keys (implicitly converted to a tuple of keys) will be deprecated, use a list instead.\n",
      "  \"\"\"Entry point for launching an IPython kernel.\n"
     ]
    }
   ],
   "source": [
    "country = df_dataset.groupby([\"Country/Region\", \"Province/State\"])[\"Date\", \"Confirmed\"].max()\n",
    "print(country.head(300))"
   ]
  },
  {
   "cell_type": "code",
   "execution_count": 95,
   "metadata": {},
   "outputs": [],
   "source": [
    "df_dataset.to_csv(\"covid_19_clean_complete_clean.csv\",index=False)"
   ]
  },
  {
   "cell_type": "code",
   "execution_count": null,
   "metadata": {},
   "outputs": [],
   "source": []
  }
 ],
 "metadata": {
  "kernelspec": {
   "display_name": "Python 3",
   "language": "python",
   "name": "python3"
  },
  "language_info": {
   "codemirror_mode": {
    "name": "ipython",
    "version": 3
   },
   "file_extension": ".py",
   "mimetype": "text/x-python",
   "name": "python",
   "nbconvert_exporter": "python",
   "pygments_lexer": "ipython3",
   "version": "3.7.6"
  }
 },
 "nbformat": 4,
 "nbformat_minor": 4
}
