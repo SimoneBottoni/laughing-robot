{
 "cells": [
  {
   "cell_type": "code",
   "execution_count": 2,
   "metadata": {
    "scrolled": true
   },
   "outputs": [],
   "source": [
    "import pandas as pd\n",
    "import numpy as np"
   ]
  },
  {
   "cell_type": "code",
   "execution_count": 3,
   "metadata": {},
   "outputs": [
    {
     "name": "stdout",
     "output_type": "stream",
     "text": [
      "Province/State    11180\n",
      "Country/Region        0\n",
      "Lat                   0\n",
      "Long                  0\n",
      "Date                  0\n",
      "Confirmed             0\n",
      "Deaths                0\n",
      "Recovered             0\n",
      "dtype: int64\n",
      "Province/State    object\n",
      "Country/Region    object\n",
      "Date              object\n",
      "Confirmed          int64\n",
      "Deaths             int64\n",
      "Recovered          int64\n",
      "dtype: object\n",
      "Province/State            object\n",
      "Country/Region            object\n",
      "Date              datetime64[ns]\n",
      "Confirmed                  int64\n",
      "Deaths                     int64\n",
      "Recovered                  int64\n",
      "dtype: object\n"
     ]
    },
    {
     "name": "stderr",
     "output_type": "stream",
     "text": [
      "/opt/conda/lib/python3.7/site-packages/ipykernel_launcher.py:23: FutureWarning: Indexing with multiple keys (implicitly converted to a tuple of keys) will be deprecated, use a list instead.\n"
     ]
    }
   ],
   "source": [
    "datasetCVD19_complete = pd.read_csv(\"covid_19_clean_complete.csv\")\n",
    "\n",
    "#Verifico le colonne con campi nulli\n",
    "null_counts = datasetCVD19_complete.isnull().sum()\n",
    "null_counts[null_counts > 0].sort_values(ascending=False)\n",
    "print(null_counts)\n",
    "\n",
    "#Elimino le colonne che non utilizzo\n",
    "datasetCVD19_complete = datasetCVD19_complete.drop(columns=\"Lat\")\n",
    "datasetCVD19_complete = datasetCVD19_complete.drop(columns=\"Long\")\n",
    "\n",
    "print(datasetCVD19_complete.dtypes)\n",
    "\n",
    "#Modifico la colonna Date dandogli il formato m-d-y\n",
    "datasetCVD19_complete[\"Date\"] = pd.to_datetime(datasetCVD19_complete[\"Date\"], format='%m/%d/%y')\n",
    "\n",
    "print(datasetCVD19_complete.dtypes)\n",
    "\n",
    "#Popolo i campi della colonna provincia con i dati relativi allo stato (per quegli stati in cui l'analisi è a livello nazionale)\n",
    "datasetCVD19_complete[\"Province/State\"] = datasetCVD19_complete[\"Province/State\"].fillna(datasetCVD19_complete[\"Country/Region\"])\n",
    "\n",
    "datasetCVD19_complete.to_csv(\"covid_19_clean_complete_clean.csv\",index=False)"
   ]
  },
  {
   "cell_type": "code",
   "execution_count": null,
   "metadata": {},
   "outputs": [],
   "source": []
  }
 ],
 "metadata": {
  "kernelspec": {
   "display_name": "Python 3",
   "language": "python",
   "name": "python3"
  },
  "language_info": {
   "codemirror_mode": {
    "name": "ipython",
    "version": 3
   },
   "file_extension": ".py",
   "mimetype": "text/x-python",
   "name": "python",
   "nbconvert_exporter": "python",
   "pygments_lexer": "ipython3",
   "version": "3.7.6"
  }
 },
 "nbformat": 4,
 "nbformat_minor": 4
}
