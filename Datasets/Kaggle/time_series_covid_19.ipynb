{
 "cells": [
  {
   "cell_type": "code",
   "execution_count": 1,
   "metadata": {},
   "outputs": [],
   "source": [
    "import pandas as pd\n",
    "import numpy as np\n",
    "\n",
    "time_series_confirmed = pd.read_csv(\"time_series_covid_19_confirmed.csv\")\n",
    "time_series_death = pd.read_csv(\"time_series_covid_19_deaths.csv\")\n",
    "time_series_recovered = pd.read_csv(\"time_series_covid_19_recovered.csv\")"
   ]
  },
  {
   "cell_type": "code",
   "execution_count": 2,
   "metadata": {},
   "outputs": [],
   "source": [
    "time_series_confirmed = time_series_confirmed.drop(columns=\"Lat\")\n",
    "time_series_confirmed = time_series_confirmed.drop(columns=\"Long\")\n",
    "\n",
    "time_series_death = time_series_death.drop(columns=\"Lat\")\n",
    "time_series_death = time_series_death.drop(columns=\"Long\")\n",
    "\n",
    "time_series_recovered = time_series_recovered.drop(columns=\"Lat\")\n",
    "time_series_recovered = time_series_recovered.drop(columns=\"Long\")"
   ]
  },
  {
   "cell_type": "code",
   "execution_count": 3,
   "metadata": {},
   "outputs": [],
   "source": [
    "time_series_confirmed[\"Province/State\"] = time_series_confirmed[\"Province/State\"].fillna(time_series_confirmed[\"Country/Region\"])\n",
    "time_series_death[\"Province/State\"] = time_series_death[\"Province/State\"].fillna(time_series_death[\"Country/Region\"])\n",
    "time_series_recovered[\"Province/State\"] = time_series_recovered[\"Province/State\"].fillna(time_series_recovered[\"Country/Region\"])"
   ]
  },
  {
   "cell_type": "code",
   "execution_count": 4,
   "metadata": {},
   "outputs": [],
   "source": [
    "time_series_confirmed.to_csv(\"time_series_covid_19_confirmed_clean.csv\",index=False)\n",
    "time_series_death.to_csv(\"time_series_covid_19_deaths_clean.csv\",index=False)\n",
    "time_series_recovered.to_csv(\"time_series_covid_19_recovered_clean.csv\",index=False)"
   ]
  },
  {
   "cell_type": "code",
   "execution_count": null,
   "metadata": {},
   "outputs": [],
   "source": []
  }
 ],
 "metadata": {
  "kernelspec": {
   "display_name": "Python 3",
   "language": "python",
   "name": "python3"
  },
  "language_info": {
   "codemirror_mode": {
    "name": "ipython",
    "version": 3
   },
   "file_extension": ".py",
   "mimetype": "text/x-python",
   "name": "python",
   "nbconvert_exporter": "python",
   "pygments_lexer": "ipython3",
   "version": "3.7.6"
  }
 },
 "nbformat": 4,
 "nbformat_minor": 4
}
