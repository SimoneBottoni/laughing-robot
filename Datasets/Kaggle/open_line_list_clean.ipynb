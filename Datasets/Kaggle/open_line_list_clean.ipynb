{
 "cells": [
  {
   "cell_type": "code",
   "execution_count": 116,
   "metadata": {},
   "outputs": [],
   "source": [
    "import pandas as pd\n",
    "\n"
   ]
  },
  {
   "cell_type": "code",
   "execution_count": 117,
   "metadata": {},
   "outputs": [],
   "source": [
    "open_line_list = pd.read_csv('COVID19_open_line_list.csv')\n",
    "\n",
    "#Rimuovo le colonne in più vuote, caricate da pandas\n",
    "open_line_list = open_line_list.iloc[:,0:33]\n",
    "\n",
    "#Recupero solamente le colonne di interesse\n",
    "open_line_list = open_line_list[['age','sex','city','province','country','wuhan(0)_not_wuhan(1)','date_confirmation','symptoms','lives_in_Wuhan','travel_history_location','chronic_disease_binary','chronic_disease','outcome','date_death_or_discharge']]\n",
    "\n",
    "#La colonna Chronic_disease_binary viene popolata con 0 dove i valori sono na, in quanto corrispondono ad una mancata presenza di malattie croniche\n",
    "open_line_list['chronic_disease_binary']=open_line_list['chronic_disease_binary'].fillna(0)\n",
    "\n",
    "#Creo una colonna binaria per individuare rapidamente se una persona è stata a Wuhan o no, in base ai dati di travel history location\n",
    "open_line_list['travel_in_Wuhan']=open_line_list['travel_history_location'].str.contains(\"Wuhan\",na=False, regex=True)\n",
    "\n",
    "#Cambio la logica di wuhan(0)_not_wuhan(1), mettendo a 1 se è stato a wuhan, 0 altrimenti. Cambio il nome della colonna in \"inWuhan\"\n",
    "open_line_list['wuhan(0)_not_wuhan(1)']=1-open_line_list['wuhan(0)_not_wuhan(1)']\n",
    "open_line_list.rename(columns={\"wuhan(0)_not_wuhan(1)\":\"inWuhan\"},inplace=True)\n",
    "open_line_list['inWuhan']=open_line_list['inWuhan'].fillna(0)\n",
    "\n",
    "#Popolo i NaN con \"no\" nella colonna \"lives_in_wuhan\" e creo rispettiva colonna binaria\n",
    "open_line_list['lives_in_Wuhan']=open_line_list['lives_in_Wuhan'].fillna('no')\n",
    "open_line_list['lives_in_Wuhan_binary']=open_line_list['lives_in_Wuhan']!='no'\n",
    "\n",
    "#Elimino le righe in cui \"country\" è nullo\n",
    "indexOLL = open_line_list[open_line_list['country'].isnull()].index\n",
    "open_line_list.drop(indexOLL,inplace=True)\n",
    "\n",
    "#Elimino le colonne che non sono più utili, in quanto o troppo poco presenti o sostituite da colonne binarie\n",
    "open_line_list.drop(columns=[\"lives_in_Wuhan\",\"travel_history_location\",\"chronic_disease\",\"outcome\",\"date_death_or_discharge\"],inplace=True)\n",
    "\n",
    "#Rendo vuoti i campi \"age\" e \"date_confirmation\" nei casi in cui sono presenti dei range e non valori precisi\n",
    "indexesOLL = open_line_list[open_line_list['age'].str.contains(\"-\",na=True, regex=None)==True].index\n",
    "open_line_list.loc[indexesOLL.tolist(),'age'] = ''\n",
    "indexesOLL = open_line_list[open_line_list['date_confirmation'].str.contains(\"-\",na=True, regex=None)==True].index\n",
    "open_line_list.loc[indexesOLL.tolist(),'date_confirmation'] = ''\n",
    "\n",
    "open_line_list.to_csv('COVID19_open_line_list_clean.csv',index=False)"
   ]
  }
 ],
 "metadata": {
  "kernelspec": {
   "display_name": "Python 3",
   "language": "python",
   "name": "python3"
  },
  "language_info": {
   "codemirror_mode": {
    "name": "ipython",
    "version": 3
   },
   "file_extension": ".py",
   "mimetype": "text/x-python",
   "name": "python",
   "nbconvert_exporter": "python",
   "pygments_lexer": "ipython3",
   "version": "3.7.6"
  }
 },
 "nbformat": 4,
 "nbformat_minor": 4
}
