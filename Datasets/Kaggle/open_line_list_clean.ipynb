{
 "cells": [
  {
   "cell_type": "code",
   "execution_count": 76,
   "metadata": {},
   "outputs": [],
   "source": [
    "import pandas\n",
    "#load csv\n",
    "open_line_list = pandas.read_csv('COVID19_open_line_list.csv')\n",
    "#remove extra empty column\n",
    "open_line_list = open_line_list.iloc[:,0:33]\n",
    "#select only usefull columns\n",
    "open_line_list = open_line_list[['age','sex','city','province','country','wuhan(0)_not_wuhan(1)','date_onset_symptoms','date_admission_hospital','date_confirmation','symptoms','lives_in_Wuhan','travel_history_location','chronic_disease_binary','chronic_disease','outcome','date_death_or_discharge']]\n",
    "open_line_list.head()\n",
    "#fix na values with 0\n",
    "open_line_list['chronic_disease_binary']=open_line_list['chronic_disease_binary'].fillna(0)\n",
    "open_line_list.head()\n",
    "#create new column with boolean values\n",
    "open_line_list['travel_in_Wuhan']=open_line_list['travel_history_location'].str.contains(\"Wuhan\",na=False, regex=True)\n",
    "open_line_list.head()\n",
    "#change logic to column wuhan(0)_not_wuhan(1) and name to inWuhan\n",
    "open_line_list['wuhan(0)_not_wuhan(1)']=1-open_line_list['wuhan(0)_not_wuhan(1)']\n",
    "open_line_list.rename(columns={\"wuhan(0)_not_wuhan(1)\":\"inWuhan\"},inplace=True)\n",
    "#fillna lives_in_wuhan\n",
    "open_line_list['lives_in_Wuhan']=open_line_list['lives_in_Wuhan'].fillna('no')\n",
    "open_line_list['lives_in_Wuhan_binary']=open_line_list['lives_in_Wuhan']!='no'\n",
    "#print na values\n",
    "#for s in open_line_list.columns:\n",
    "#    print(s + \": \")\n",
    "#    print(open_line_list[s].isna().sum())"
   ]
  },
  {
   "cell_type": "code",
   "execution_count": 77,
   "metadata": {},
   "outputs": [],
   "source": [
    "open_line_list.to_csv('COVID19_open_line_list_clean.csv',index=False)"
   ]
  },
  {
   "cell_type": "code",
   "execution_count": null,
   "metadata": {},
   "outputs": [],
   "source": []
  }
 ],
 "metadata": {
  "kernelspec": {
   "display_name": "Python 3",
   "language": "python",
   "name": "python3"
  },
  "language_info": {
   "codemirror_mode": {
    "name": "ipython",
    "version": 3
   },
   "file_extension": ".py",
   "mimetype": "text/x-python",
   "name": "python",
   "nbconvert_exporter": "python",
   "pygments_lexer": "ipython3",
   "version": "3.7.6"
  }
 },
 "nbformat": 4,
 "nbformat_minor": 4
}
