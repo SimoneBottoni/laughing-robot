{
 "cells": [
  {
   "cell_type": "code",
   "execution_count": 39,
   "metadata": {},
   "outputs": [],
   "source": [
    "import pandas\n",
    "\n",
    "#import of csv files\n",
    "gdp = pandas.read_csv('GDP_per_country_clean.csv')\n",
    "health = pandas.read_csv('Spesa_sanita_perc_gdp_clean.csv')"
   ]
  },
  {
   "cell_type": "code",
   "execution_count": 40,
   "metadata": {},
   "outputs": [],
   "source": [
    "#change index to country code [that is a standard value for identifing countries]\n",
    "gdp = gdp.set_index('Country Code')\n",
    "health = health.set_index('Country Code')\n",
    "\n",
    "#unify the 2 datasets\n",
    "unified = pandas.concat([gdp,health],axis=1)"
   ]
  },
  {
   "cell_type": "code",
   "execution_count": 41,
   "metadata": {},
   "outputs": [],
   "source": [
    "#remove duplicated columns\n",
    "unified_clean = unified.iloc[:,[0,3,7]].copy()\n",
    "\n",
    "#remove na\n",
    "unified_clean.dropna(subset=['GDP 2016','HEALTH Perc 2016'],how='any',inplace=True)\n",
    "\n",
    "#add column with value of Health cost\n",
    "unified_clean['HEALTH 2016']=unified_clean['GDP 2016']*unified_clean['HEALTH Perc 2016']/100\n",
    "unified_clean.reset_index(inplace=True)\n",
    "unified_clean.rename(columns={\"index\":\"Country Code\"},inplace=True)"
   ]
  },
  {
   "cell_type": "code",
   "execution_count": 42,
   "metadata": {},
   "outputs": [],
   "source": [
    "unified_clean.to_csv('GDP_HEALTH_per_country_clean.csv', index=False)"
   ]
  },
  {
   "cell_type": "code",
   "execution_count": null,
   "metadata": {},
   "outputs": [],
   "source": []
  }
 ],
 "metadata": {
  "kernelspec": {
   "display_name": "Python 3",
   "language": "python",
   "name": "python3"
  },
  "language_info": {
   "codemirror_mode": {
    "name": "ipython",
    "version": 3
   },
   "file_extension": ".py",
   "mimetype": "text/x-python",
   "name": "python",
   "nbconvert_exporter": "python",
   "pygments_lexer": "ipython3",
   "version": "3.7.6"
  }
 },
 "nbformat": 4,
 "nbformat_minor": 4
}
