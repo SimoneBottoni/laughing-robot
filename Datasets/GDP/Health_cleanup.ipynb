{
 "cells": [
  {
   "cell_type": "code",
   "execution_count": 21,
   "metadata": {},
   "outputs": [],
   "source": [
    "import pandas\n",
    "\n",
    "#Load csv\n",
    "healthDataset = pandas.read_csv(\"Spesa_sanita_perc_gdp.csv\")"
   ]
  },
  {
   "cell_type": "code",
   "execution_count": 22,
   "metadata": {},
   "outputs": [],
   "source": [
    "#Select only usefull columns\n",
    "healthDatasetClean = healthDataset[['Country Name','Country Code','Indicator Name','Indicator Code','2016']].copy()\n",
    "\n",
    "#dropna\n",
    "healthDatasetClean.dropna(subset=['2016'],inplace=True)"
   ]
  },
  {
   "cell_type": "code",
   "execution_count": 23,
   "metadata": {},
   "outputs": [
    {
     "name": "stderr",
     "output_type": "stream",
     "text": [
      "/opt/conda/lib/python3.7/site-packages/pandas/core/indexing.py:671: SettingWithCopyWarning: \n",
      "A value is trying to be set on a copy of a slice from a DataFrame\n",
      "\n",
      "See the caveats in the documentation: https://pandas.pydata.org/pandas-docs/stable/user_guide/indexing.html#returning-a-view-versus-a-copy\n",
      "  self._setitem_with_indexer(indexer, value)\n"
     ]
    }
   ],
   "source": [
    "#rename column\n",
    "healthDatasetClean.rename(columns={\"2016\":\"HEALTH Perc 2016\"},inplace=True)\n",
    "\n",
    "#rename some countries\n",
    "healthDatasetClean['Country Name'].loc[(healthDatasetClean['Country Name']=='United States')]='US'\n",
    "healthDatasetClean['Country Name'].loc[(healthDatasetClean['Country Name']=='Korea, Rep.')]='South Korea'\n",
    "healthDatasetClean['Country Name'].loc[(healthDatasetClean['Country Name']=='Iran, Islamic Rep.')]='Iran'"
   ]
  },
  {
   "cell_type": "code",
   "execution_count": 24,
   "metadata": {},
   "outputs": [],
   "source": [
    "#save to csv\n",
    "healthDatasetClean.to_csv('Spesa_sanita_perc_gdp_clean.csv', index=False)"
   ]
  },
  {
   "cell_type": "code",
   "execution_count": null,
   "metadata": {},
   "outputs": [],
   "source": []
  }
 ],
 "metadata": {
  "kernelspec": {
   "display_name": "Python 3",
   "language": "python",
   "name": "python3"
  },
  "language_info": {
   "codemirror_mode": {
    "name": "ipython",
    "version": 3
   },
   "file_extension": ".py",
   "mimetype": "text/x-python",
   "name": "python",
   "nbconvert_exporter": "python",
   "pygments_lexer": "ipython3",
   "version": "3.7.6"
  }
 },
 "nbformat": 4,
 "nbformat_minor": 4
}
