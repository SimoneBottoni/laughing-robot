{
 "cells": [
  {
   "cell_type": "code",
   "execution_count": 1,
   "metadata": {},
   "outputs": [],
   "source": [
    "import pandas\n",
    "#Load csv\n",
    "healthDataset = pandas.read_csv(\"Spesa_sanita_perc_gdp.csv\")"
   ]
  },
  {
   "cell_type": "code",
   "execution_count": 19,
   "metadata": {},
   "outputs": [
    {
     "name": "stderr",
     "output_type": "stream",
     "text": [
      "/opt/conda/lib/python3.7/site-packages/pandas/core/indexing.py:671: SettingWithCopyWarning: \n",
      "A value is trying to be set on a copy of a slice from a DataFrame\n",
      "\n",
      "See the caveats in the documentation: https://pandas.pydata.org/pandas-docs/stable/user_guide/indexing.html#returning-a-view-versus-a-copy\n",
      "  self._setitem_with_indexer(indexer, value)\n"
     ]
    },
    {
     "data": {
      "text/html": [
       "<div>\n",
       "<style scoped>\n",
       "    .dataframe tbody tr th:only-of-type {\n",
       "        vertical-align: middle;\n",
       "    }\n",
       "\n",
       "    .dataframe tbody tr th {\n",
       "        vertical-align: top;\n",
       "    }\n",
       "\n",
       "    .dataframe thead th {\n",
       "        text-align: right;\n",
       "    }\n",
       "</style>\n",
       "<table border=\"1\" class=\"dataframe\">\n",
       "  <thead>\n",
       "    <tr style=\"text-align: right;\">\n",
       "      <th></th>\n",
       "      <th>Country Name</th>\n",
       "      <th>Country Code</th>\n",
       "      <th>Indicator Name</th>\n",
       "      <th>Indicator Code</th>\n",
       "      <th>HEALTH Perc 2016</th>\n",
       "    </tr>\n",
       "  </thead>\n",
       "  <tbody>\n",
       "    <tr>\n",
       "      <th>1</th>\n",
       "      <td>Afghanistan</td>\n",
       "      <td>AFG</td>\n",
       "      <td>Current health expenditure (% of GDP)</td>\n",
       "      <td>SH.XPD.CHEX.GD.ZS</td>\n",
       "      <td>10.198677</td>\n",
       "    </tr>\n",
       "    <tr>\n",
       "      <th>2</th>\n",
       "      <td>Angola</td>\n",
       "      <td>AGO</td>\n",
       "      <td>Current health expenditure (% of GDP)</td>\n",
       "      <td>SH.XPD.CHEX.GD.ZS</td>\n",
       "      <td>2.877825</td>\n",
       "    </tr>\n",
       "    <tr>\n",
       "      <th>3</th>\n",
       "      <td>Albania</td>\n",
       "      <td>ALB</td>\n",
       "      <td>Current health expenditure (% of GDP)</td>\n",
       "      <td>SH.XPD.CHEX.GD.ZS</td>\n",
       "      <td>6.697895</td>\n",
       "    </tr>\n",
       "    <tr>\n",
       "      <th>4</th>\n",
       "      <td>Andorra</td>\n",
       "      <td>AND</td>\n",
       "      <td>Current health expenditure (% of GDP)</td>\n",
       "      <td>SH.XPD.CHEX.GD.ZS</td>\n",
       "      <td>10.367728</td>\n",
       "    </tr>\n",
       "    <tr>\n",
       "      <th>5</th>\n",
       "      <td>Arab World</td>\n",
       "      <td>ARB</td>\n",
       "      <td>Current health expenditure (% of GDP)</td>\n",
       "      <td>SH.XPD.CHEX.GD.ZS</td>\n",
       "      <td>4.887915</td>\n",
       "    </tr>\n",
       "  </tbody>\n",
       "</table>\n",
       "</div>"
      ],
      "text/plain": [
       "  Country Name Country Code                         Indicator Name  \\\n",
       "1  Afghanistan          AFG  Current health expenditure (% of GDP)   \n",
       "2       Angola          AGO  Current health expenditure (% of GDP)   \n",
       "3      Albania          ALB  Current health expenditure (% of GDP)   \n",
       "4      Andorra          AND  Current health expenditure (% of GDP)   \n",
       "5   Arab World          ARB  Current health expenditure (% of GDP)   \n",
       "\n",
       "      Indicator Code  HEALTH Perc 2016  \n",
       "1  SH.XPD.CHEX.GD.ZS         10.198677  \n",
       "2  SH.XPD.CHEX.GD.ZS          2.877825  \n",
       "3  SH.XPD.CHEX.GD.ZS          6.697895  \n",
       "4  SH.XPD.CHEX.GD.ZS         10.367728  \n",
       "5  SH.XPD.CHEX.GD.ZS          4.887915  "
      ]
     },
     "execution_count": 19,
     "metadata": {},
     "output_type": "execute_result"
    }
   ],
   "source": [
    "#Select only usefull columns\n",
    "healthDatasetClean = healthDataset[['Country Name','Country Code','Indicator Name','Indicator Code','2016']].copy()\n",
    "healthDatasetClean.head()\n",
    "#dropna\n",
    "healthDatasetClean.dropna(subset=['2016'],inplace=True)\n",
    "#rename column\n",
    "healthDatasetClean.rename(columns={\"2016\":\"HEALTH Perc 2016\"},inplace=True)\n",
    "healthDatasetClean.head()\n",
    "#rename some countries\n",
    "healthDatasetClean['Country Name'].loc[(healthDatasetClean['Country Name']=='United States')]='US'\n",
    "healthDatasetClean['Country Name'].loc[(healthDatasetClean['Country Name']=='Korea, Rep.')]='South Korea'\n",
    "healthDatasetClean['Country Name'].loc[(healthDatasetClean['Country Name']=='Iran, Islamic Rep.')]='Iran'\n",
    "healthDatasetClean.head()"
   ]
  },
  {
   "cell_type": "code",
   "execution_count": 20,
   "metadata": {},
   "outputs": [],
   "source": [
    "#save to csv\n",
    "healthDatasetClean.to_csv('Spesa_sanita_perc_gdp_clean.csv', index=False)"
   ]
  },
  {
   "cell_type": "code",
   "execution_count": null,
   "metadata": {},
   "outputs": [],
   "source": []
  }
 ],
 "metadata": {
  "kernelspec": {
   "display_name": "Python 3",
   "language": "python",
   "name": "python3"
  },
  "language_info": {
   "codemirror_mode": {
    "name": "ipython",
    "version": 3
   },
   "file_extension": ".py",
   "mimetype": "text/x-python",
   "name": "python",
   "nbconvert_exporter": "python",
   "pygments_lexer": "ipython3",
   "version": "3.7.6"
  }
 },
 "nbformat": 4,
 "nbformat_minor": 4
}
