{
 "cells": [
  {
   "cell_type": "code",
   "execution_count": 36,
   "metadata": {},
   "outputs": [],
   "source": [
    "import pandas\n",
    "#Load csv\n",
    "gdpDataset = pandas.read_csv(\"GDP_per_country.csv\")"
   ]
  },
  {
   "cell_type": "code",
   "execution_count": 37,
   "metadata": {},
   "outputs": [],
   "source": [
    "#Select only usefull columns\n",
    "gdpDatasetClean = gdpDataset[['Country Name','Country Code', 'Indicator Name','Indicator Code','2016']].copy()\n",
    "\n",
    "#dropna\n",
    "gdpDatasetClean.dropna(subset=['2016'],inplace=True)"
   ]
  },
  {
   "cell_type": "code",
   "execution_count": 38,
   "metadata": {},
   "outputs": [],
   "source": [
    "#rename column\n",
    "gdpDatasetClean.rename(columns={\"2016\":\"GDP 2016\"},inplace=True)\n",
    "\n",
    "#rename some countries\n",
    "gdpDatasetClean['Country Name'].loc[(gdpDatasetClean['Country Name']=='United States')]='US'\n",
    "gdpDatasetClean['Country Name'].loc[(gdpDatasetClean['Country Name']=='Korea, Rep.')]='South Korea'\n",
    "gdpDatasetClean['Country Name'].loc[(gdpDatasetClean['Country Name']=='Iran, Islamic Rep.')]='Iran'"
   ]
  },
  {
   "cell_type": "code",
   "execution_count": 39,
   "metadata": {},
   "outputs": [],
   "source": [
    "#save to csv\n",
    "gdpDatasetClean.to_csv('GDP_per_country_clean.csv', index=False)"
   ]
  },
  {
   "cell_type": "code",
   "execution_count": null,
   "metadata": {},
   "outputs": [],
   "source": []
  }
 ],
 "metadata": {
  "kernelspec": {
   "display_name": "Python 3",
   "language": "python",
   "name": "python3"
  },
  "language_info": {
   "codemirror_mode": {
    "name": "ipython",
    "version": 3
   },
   "file_extension": ".py",
   "mimetype": "text/x-python",
   "name": "python",
   "nbconvert_exporter": "python",
   "pygments_lexer": "ipython3",
   "version": "3.7.6"
  }
 },
 "nbformat": 4,
 "nbformat_minor": 4
}
