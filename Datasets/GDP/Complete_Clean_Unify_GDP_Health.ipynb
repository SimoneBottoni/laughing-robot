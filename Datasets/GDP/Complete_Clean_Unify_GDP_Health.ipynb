{
 "cells": [
  {
   "cell_type": "code",
   "execution_count": null,
   "metadata": {},
   "outputs": [],
   "source": [
    "import pandas as pd"
   ]
  },
  {
   "cell_type": "code",
   "execution_count": null,
   "metadata": {},
   "outputs": [],
   "source": [
    "gdpDataset = pd.read_csv(\"Datasets/GDP/GDP_per_country.csv\")\n",
    "\n",
    "#Selezione solamente le colonne più significative\n",
    "gdpDatasetClean = gdpDataset[['Country Name','Country Code', 'Indicator Name','Indicator Code','2016']].copy()\n",
    "\n",
    "#Elimino le righe (quindi i paesi) per cui non ho dati nel 2016\n",
    "gdpDatasetClean.dropna(subset=['2016'],inplace=True)\n",
    "gdpDatasetClean.rename(columns={\"2016\":\"GDP 2016\"},inplace=True)\n",
    "\n",
    "#Rinomino alcune nazioni in quanto scritte in modo diverso rispetto agli altri dataset elaborati\n",
    "gdpDatasetClean['Country Name'].loc[(gdpDatasetClean['Country Name']=='United States')]='US'\n",
    "gdpDatasetClean['Country Name'].loc[(gdpDatasetClean['Country Name']=='Korea, Rep.')]='South Korea'\n",
    "gdpDatasetClean['Country Name'].loc[(gdpDatasetClean['Country Name']=='Iran, Islamic Rep.')]='Iran'\n",
    "\n",
    "gdpDatasetClean.to_csv('GDP_per_country_clean.csv', index=False)\n",
    "\n",
    "healthDataset = pd.read_csv(\"Datasets/GDP/Spesa_sanita_perc_gdp.csv\")\n",
    "\n",
    "#Selezione solamente le colonne più significative\n",
    "healthDatasetClean = healthDataset[['Country Name','Country Code','Indicator Name','Indicator Code','2016']].copy()\n",
    "\n",
    "#Elimino le righe (quindi i paesi) per cui non ho dati nel 2016\n",
    "healthDatasetClean.dropna(subset=['2016'],inplace=True)\n",
    "healthDatasetClean.rename(columns={\"2016\":\"HEALTH Perc 2016\"},inplace=True)\n",
    "\n",
    "#Rinomino alcune nazioni in quanto scritte in modo diverso rispetto agli altri dataset elaborati\n",
    "healthDatasetClean['Country Name'].loc[(healthDatasetClean['Country Name']=='United States')]='US'\n",
    "healthDatasetClean['Country Name'].loc[(healthDatasetClean['Country Name']=='Korea, Rep.')]='South Korea'\n",
    "healthDatasetClean['Country Name'].loc[(healthDatasetClean['Country Name']=='Iran, Islamic Rep.')]='Iran'\n",
    "\n",
    "healthDatasetClean.to_csv('Datasets/GDP/Spesa_sanita_perc_gdp_clean.csv', index=False)\n",
    "\n",
    "gdp = pd.read_csv('GDP_per_country_clean.csv')\n",
    "health = pd.read_csv('Spesa_sanita_perc_gdp_clean.csv')\n",
    "\n",
    "#Modifico l'index dei df impostando il CountryCode (che è univoco ed è uno standard per l'identificazione delle nazioni)\n",
    "gdp = gdp.set_index('Country Code')\n",
    "health = health.set_index('Country Code')\n",
    "\n",
    "#Unisco i due dataset\n",
    "unified_gdp_health = pandas.concat([gdp,health],axis=1)\n",
    "\n",
    "#Rimuovo le colonne duplicate\n",
    "unified_clean_gdp_health = unified_gdp_health.iloc[:,[0,3,7]].copy()\n",
    "\n",
    "#Rimuovo eventuali nazioni che non hanno o il GDP o l'Health\n",
    "unified_clean_gdp_health.dropna(subset=['GDP 2016','HEALTH Perc 2016'],how='any',inplace=True)\n",
    "\n",
    "#Calcolo il costo in $ per la sanità\n",
    "unified_clean_gdp_health['HEALTH 2016']=unified_clean_gdp_health['GDP 2016']*unified_clean_gdp_health['HEALTH Perc 2016']/100\n",
    "\n",
    "#Ripristino gli indici\n",
    "unified_clean_gdp_health.reset_index(inplace=True)\n",
    "unified_clean_gdp_health.rename(columns={\"index\":\"Country Code\"},inplace=True)\n",
    "\n",
    "unified_clean_gdp_health.to_csv('GDP_HEALTH_per_country_clean.csv', index=False)"
   ]
  }
 ],
 "metadata": {
  "kernelspec": {
   "display_name": "Python 3",
   "language": "python",
   "name": "python3"
  },
  "language_info": {
   "codemirror_mode": {
    "name": "ipython",
    "version": 3
   },
   "file_extension": ".py",
   "mimetype": "text/x-python",
   "name": "python",
   "nbconvert_exporter": "python",
   "pygments_lexer": "ipython3",
   "version": "3.7.6"
  }
 },
 "nbformat": 4,
 "nbformat_minor": 4
}
