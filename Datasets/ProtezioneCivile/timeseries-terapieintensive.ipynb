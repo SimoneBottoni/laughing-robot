{
 "cells": [
  {
   "cell_type": "code",
   "execution_count": 1,
   "metadata": {},
   "outputs": [],
   "source": [
    "import pandas as pd"
   ]
  },
  {
   "cell_type": "code",
   "execution_count": 2,
   "metadata": {},
   "outputs": [],
   "source": [
    "datasetTerapiaTS = pd.read_csv(\"dpc-covid19-ita-regioni_clean.csv\")\n",
    "\n",
    "#Recupero le colonne di interesse\n",
    "TSterapia_regioni = datasetTerapiaTS[[\"data\", \"denominazione_regione\", \"terapia_intensiva\"]].copy()\n",
    "\n",
    "#Modifico l'indice, impostando la regione\n",
    "TSterapia_regioni.set_index(\"denominazione_regione\", inplace=True)\n",
    "\n",
    "#Effettuo il pivot della tabella ottenendo la time series\n",
    "TSterapia_regioni = TSterapia_regioni.pivot_table(index='denominazione_regione', columns='data', values='terapia_intensiva')\n",
    "\n",
    "TSterapia_regioni.to_csv(\"ts_regioni_terapia.csv\")"
   ]
  },
  {
   "cell_type": "code",
   "execution_count": 3,
   "metadata": {},
   "outputs": [],
   "source": [
    "#Recupero le colonne di interesse\n",
    "TSterapia_daily_lombardia = datasetTerapiaTS[[\"data\", \"denominazione_regione\", \"terapia_intensiva\"]].copy()\n",
    "\n",
    "TSterapia_daily_lombardia = TSterapia_daily_lombardia[TSterapia_daily_lombardia[\"denominazione_regione\"]=='Lombardia']\n",
    "\n",
    "TSterapia_daily_lombardia[\"daily_ti\"] = TSterapia_daily_lombardia[['terapia_intensiva']].diff()\n",
    "\n",
    "TSterapia_daily_lombardia.at[9,\"daily_ti\"]=TSterapia_daily_lombardia.at[9,'terapia_intensiva']\n",
    "\n",
    "TSterapia_daily_lombardia.drop(columns=[\"terapia_intensiva\"],inplace=True)\n",
    "\n",
    "#Modifico l'indice, impostando la regione\n",
    "TSterapia_daily_lombardia.set_index(\"denominazione_regione\", inplace=True)\n",
    "\n",
    "#Effettuo il pivot della tabella ottenendo la time series\n",
    "TSterapia_daily_lombardia = TSterapia_daily_lombardia.pivot_table(index='denominazione_regione', columns='data', values='daily_ti')\n",
    "\n",
    "TSterapia_daily_lombardia.to_csv(\"ts_regioni_terapia_daily_lombardia.csv\")\n",
    "\n"
   ]
  },
  {
   "cell_type": "code",
   "execution_count": null,
   "metadata": {},
   "outputs": [],
   "source": []
  },
  {
   "cell_type": "code",
   "execution_count": null,
   "metadata": {},
   "outputs": [],
   "source": []
  }
 ],
 "metadata": {
  "kernelspec": {
   "display_name": "Python 3",
   "language": "python",
   "name": "python3"
  },
  "language_info": {
   "codemirror_mode": {
    "name": "ipython",
    "version": 3
   },
   "file_extension": ".py",
   "mimetype": "text/x-python",
   "name": "python",
   "nbconvert_exporter": "python",
   "pygments_lexer": "ipython3",
   "version": "3.7.4"
  }
 },
 "nbformat": 4,
 "nbformat_minor": 4
}
