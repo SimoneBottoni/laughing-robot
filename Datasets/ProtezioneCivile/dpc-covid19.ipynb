{
 "cells": [
  {
   "cell_type": "code",
   "execution_count": 1,
   "metadata": {},
   "outputs": [],
   "source": [
    "import pandas as pd"
   ]
  },
  {
   "cell_type": "markdown",
   "metadata": {},
   "source": [
    "#### Andamento Nazionale"
   ]
  },
  {
   "cell_type": "code",
   "execution_count": 2,
   "metadata": {},
   "outputs": [],
   "source": [
    "pcNazionaleInputDataset = pd.read_csv(\"dpc-covid19-ita-andamento-nazionale.csv\")\n",
    "pcNazionaleInputDataset\n",
    "\n",
    "# Rimozione delle colonne non necessarie\n",
    "pcNazionaleOutputDataset = pcNazionaleInputDataset.drop(columns=\"stato\")\n",
    "pcNazionaleOutputDataset = pcNazionaleOutputDataset.drop(columns=\"note_it\")\n",
    "pcNazionaleOutputDataset = pcNazionaleOutputDataset.drop(columns=\"note_en\")\n",
    "\n",
    "# Riformattazione della data\n",
    "pcNazionaleOutputDataset[\"data\"] = pd.to_datetime(pcNazionaleOutputDataset[\"data\"], format='%Y-%m-%d').dt.normalize()\n",
    "\n",
    "pcNazionaleOutputDataset.to_csv(\"dpc-covid19-ita-andamento-nazionale_clean.csv\",index=False)"
   ]
  },
  {
   "cell_type": "markdown",
   "metadata": {},
   "source": [
    "#### Andamento Regionale"
   ]
  },
  {
   "cell_type": "code",
   "execution_count": 3,
   "metadata": {},
   "outputs": [],
   "source": [
    "pcRegioniInputDataset = pd.read_csv(\"dpc-covid19-ita-regioni.csv\")\n",
    "\n",
    "# Rimozione delle colonne non necessarie\n",
    "pcRegioniOutputDataset = pcRegioniInputDataset.drop(columns=\"stato\")\n",
    "pcRegioniOutputDataset = pcRegioniOutputDataset.drop(columns=\"codice_regione\")\n",
    "pcRegioniOutputDataset = pcRegioniOutputDataset.drop(columns=\"lat\")\n",
    "pcRegioniOutputDataset = pcRegioniOutputDataset.drop(columns=\"long\")\n",
    "pcRegioniOutputDataset = pcRegioniOutputDataset.drop(columns=\"note_it\")\n",
    "pcRegioniOutputDataset = pcRegioniOutputDataset.drop(columns=\"note_en\")\n",
    "\n",
    "# Riformattazione della data\n",
    "pcRegioniOutputDataset[\"data\"] = pd.to_datetime(pcRegioniOutputDataset[\"data\"], format='%Y-%m-%d').dt.normalize()\n",
    "\n",
    "pcRegioniOutputDataset.to_csv(\"dpc-covid19-ita-regioni_clean.csv\",index=False)"
   ]
  },
  {
   "cell_type": "markdown",
   "metadata": {},
   "source": [
    "#### Andamento Provinciale"
   ]
  },
  {
   "cell_type": "code",
   "execution_count": 4,
   "metadata": {},
   "outputs": [],
   "source": [
    "pcProvincieInputDataset = pd.read_csv(\"dpc-covid19-ita-province.csv\")\n",
    "\n",
    "# Rimozione delle colonne non necessarie\n",
    "pcProvincieOutputDataset = pcProvincieInputDataset.drop(columns=\"stato\")\n",
    "pcProvincieOutputDataset = pcProvincieOutputDataset.drop(columns=\"codice_regione\")\n",
    "pcProvincieOutputDataset = pcProvincieOutputDataset.drop(columns=\"codice_provincia\")\n",
    "pcProvincieOutputDataset = pcProvincieOutputDataset.drop(columns=\"sigla_provincia\")\n",
    "pcProvincieOutputDataset = pcProvincieOutputDataset.drop(columns=\"lat\")\n",
    "pcProvincieOutputDataset = pcProvincieOutputDataset.drop(columns=\"long\")\n",
    "pcProvincieOutputDataset = pcProvincieOutputDataset.drop(columns=\"note_it\")\n",
    "pcProvincieOutputDataset = pcProvincieOutputDataset.drop(columns=\"note_en\")\n",
    "\n",
    "# Rimozione delle righe con denominazione \"In fase di definizione/aggiornamento\"\n",
    "indexNames = pcProvincieOutputDataset[pcProvincieOutputDataset['denominazione_provincia'] == \n",
    "                                      \"In fase di definizione/aggiornamento\"].index\n",
    "\n",
    "pcProvincieOutputDataset.drop(indexNames , inplace=True)\n",
    "\n",
    "# Riformattazione della data\n",
    "pcProvincieOutputDataset[\"data\"] = pd.to_datetime(pcProvincieOutputDataset[\"data\"], format='%Y-%m-%d').dt.normalize()\n",
    "\n",
    "pcProvincieOutputDataset.to_csv(\"dpc-covid19-ita-province_clean.csv\",index=False)"
   ]
  },
  {
   "cell_type": "code",
   "execution_count": null,
   "metadata": {},
   "outputs": [],
   "source": []
  }
 ],
 "metadata": {
  "kernelspec": {
   "display_name": "Python 3",
   "language": "python",
   "name": "python3"
  },
  "language_info": {
   "codemirror_mode": {
    "name": "ipython",
    "version": 3
   },
   "file_extension": ".py",
   "mimetype": "text/x-python",
   "name": "python",
   "nbconvert_exporter": "python",
   "pygments_lexer": "ipython3",
   "version": "3.7.4"
  }
 },
 "nbformat": 4,
 "nbformat_minor": 2
}
