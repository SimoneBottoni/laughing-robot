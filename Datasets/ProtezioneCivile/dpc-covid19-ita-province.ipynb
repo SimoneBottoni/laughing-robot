{
 "cells": [
  {
   "cell_type": "code",
   "execution_count": 3,
   "metadata": {},
   "outputs": [
    {
     "name": "stdout",
     "output_type": "stream",
     "text": [
      "                  data stato  codice_regione denominazione_regione  \\\n",
      "0  2020-02-24 18:00:00   ITA              13               Abruzzo   \n",
      "1  2020-02-24 18:00:00   ITA              13               Abruzzo   \n",
      "2  2020-02-24 18:00:00   ITA              13               Abruzzo   \n",
      "3  2020-02-24 18:00:00   ITA              13               Abruzzo   \n",
      "4  2020-02-24 18:00:00   ITA              13               Abruzzo   \n",
      "\n",
      "   codice_provincia               denominazione_provincia sigla_provincia  \\\n",
      "0                69                                Chieti              CH   \n",
      "1                66                              L'Aquila              AQ   \n",
      "2                68                               Pescara              PE   \n",
      "3                67                                Teramo              TE   \n",
      "4               979  In fase di definizione/aggiornamento             NaN   \n",
      "\n",
      "         lat       long  totale_casi  \n",
      "0  42.351032  14.167546            0  \n",
      "1  42.351222  13.398438            0  \n",
      "2  42.464584  14.213648            0  \n",
      "3  42.658918  13.704400            0  \n",
      "4   0.000000   0.000000            0  \n"
     ]
    }
   ],
   "source": [
    "import pandas as pd\n",
    "import numpy as np\n",
    "\n",
    "province = pd.read_csv(\"dpc-covid19-ita-province.csv\")\n",
    "\n",
    "print(province.head())"
   ]
  },
  {
   "cell_type": "code",
   "execution_count": 4,
   "metadata": {},
   "outputs": [],
   "source": [
    "province = province.drop(columns=\"stato\")\n",
    "province = province.drop(columns=\"codice_regione\")\n",
    "province = province.drop(columns=\"codice_provincia\")\n",
    "province = province.drop(columns=\"sigla_provincia\")\n",
    "province = province.drop(columns=\"lat\")\n",
    "province = province.drop(columns=\"long\")"
   ]
  },
  {
   "cell_type": "code",
   "execution_count": 5,
   "metadata": {},
   "outputs": [
    {
     "name": "stdout",
     "output_type": "stream",
     "text": [
      "                  data denominazione_regione denominazione_provincia  \\\n",
      "0  2020-02-24 18:00:00               Abruzzo                  Chieti   \n",
      "1  2020-02-24 18:00:00               Abruzzo                L'Aquila   \n",
      "2  2020-02-24 18:00:00               Abruzzo                 Pescara   \n",
      "3  2020-02-24 18:00:00               Abruzzo                  Teramo   \n",
      "5  2020-02-24 18:00:00            Basilicata                  Matera   \n",
      "\n",
      "   totale_casi  \n",
      "0            0  \n",
      "1            0  \n",
      "2            0  \n",
      "3            0  \n",
      "5            0  \n"
     ]
    }
   ],
   "source": [
    "indexNames = province[ province['denominazione_provincia'] == \"In fase di definizione/aggiornamento\" ].index\n",
    "province.drop(indexNames , inplace=True)\n",
    "\n",
    "print(province.head())"
   ]
  },
  {
   "cell_type": "code",
   "execution_count": 6,
   "metadata": {},
   "outputs": [
    {
     "name": "stdout",
     "output_type": "stream",
     "text": [
      "        data denominazione_regione denominazione_provincia  totale_casi\n",
      "0 2020-02-24               Abruzzo                  Chieti            0\n",
      "1 2020-02-24               Abruzzo                L'Aquila            0\n",
      "2 2020-02-24               Abruzzo                 Pescara            0\n",
      "3 2020-02-24               Abruzzo                  Teramo            0\n",
      "5 2020-02-24            Basilicata                  Matera            0\n"
     ]
    }
   ],
   "source": [
    "province[\"data\"] = pd.to_datetime(province[\"data\"], format='%Y-%m-%d').dt.normalize()\n",
    "print(province.head())"
   ]
  },
  {
   "cell_type": "code",
   "execution_count": 8,
   "metadata": {},
   "outputs": [],
   "source": [
    "province.to_csv(\"dpc-covid19-ita-province_clean.csv\",index=False)"
   ]
  }
 ],
 "metadata": {
  "kernelspec": {
   "display_name": "Python 3",
   "language": "python",
   "name": "python3"
  },
  "language_info": {
   "codemirror_mode": {
    "name": "ipython",
    "version": 3
   },
   "file_extension": ".py",
   "mimetype": "text/x-python",
   "name": "python",
   "nbconvert_exporter": "python",
   "pygments_lexer": "ipython3",
   "version": "3.7.6"
  }
 },
 "nbformat": 4,
 "nbformat_minor": 4
}
