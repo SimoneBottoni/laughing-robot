{
 "cells": [
  {
   "cell_type": "code",
   "execution_count": 1,
   "metadata": {},
   "outputs": [],
   "source": [
    "import pandas as pd\n",
    "import numpy as np\n",
    "\n",
    "province = pd.read_csv(\"dpc-covid19-ita-province.csv\")"
   ]
  },
  {
   "cell_type": "code",
   "execution_count": 2,
   "metadata": {},
   "outputs": [],
   "source": [
    "province = province.drop(columns=\"stato\")\n",
    "province = province.drop(columns=\"codice_regione\")\n",
    "province = province.drop(columns=\"codice_provincia\")\n",
    "province = province.drop(columns=\"sigla_provincia\")\n",
    "province = province.drop(columns=\"lat\")\n",
    "province = province.drop(columns=\"long\")"
   ]
  },
  {
   "cell_type": "code",
   "execution_count": 3,
   "metadata": {},
   "outputs": [],
   "source": [
    "indexNames = province[province['denominazione_provincia'] == \"In fase di definizione/aggiornamento\"].index\n",
    "province.drop(indexNames , inplace=True)"
   ]
  },
  {
   "cell_type": "code",
   "execution_count": 4,
   "metadata": {},
   "outputs": [],
   "source": [
    "province[\"data\"] = pd.to_datetime(province[\"data\"], format='%Y-%m-%d').dt.normalize()"
   ]
  },
  {
   "cell_type": "code",
   "execution_count": 5,
   "metadata": {},
   "outputs": [],
   "source": [
    "province.to_csv(\"dpc-covid19-ita-province_clean.csv\",index=False)"
   ]
  },
  {
   "cell_type": "code",
   "execution_count": null,
   "metadata": {},
   "outputs": [],
   "source": []
  }
 ],
 "metadata": {
  "kernelspec": {
   "display_name": "Python 3",
   "language": "python",
   "name": "python3"
  },
  "language_info": {
   "codemirror_mode": {
    "name": "ipython",
    "version": 3
   },
   "file_extension": ".py",
   "mimetype": "text/x-python",
   "name": "python",
   "nbconvert_exporter": "python",
   "pygments_lexer": "ipython3",
   "version": "3.7.6"
  }
 },
 "nbformat": 4,
 "nbformat_minor": 4
}
