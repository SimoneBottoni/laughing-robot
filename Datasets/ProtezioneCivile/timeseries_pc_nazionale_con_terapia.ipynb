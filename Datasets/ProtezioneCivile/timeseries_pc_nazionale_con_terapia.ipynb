{
 "cells": [
  {
   "cell_type": "code",
   "execution_count": 19,
   "metadata": {},
   "outputs": [],
   "source": [
    "import pandas as pd"
   ]
  },
  {
   "cell_type": "code",
   "execution_count": 20,
   "metadata": {},
   "outputs": [],
   "source": [
    "timeseriesPCNazionaleDataset = pd.read_csv(\"dpc-covid19-ita-andamento-nazionale_clean.csv\")"
   ]
  },
  {
   "cell_type": "code",
   "execution_count": 21,
   "metadata": {},
   "outputs": [],
   "source": [
    "ricoveratiNazionali = timeseriesPCNazionaleDataset[[\"data\", \"ricoverati_con_sintomi\"]].copy()\n",
    "ricoveratiNazionali.head(100)\n",
    "ricoveratiNazionali.set_index(\"data\", inplace = True)\n",
    "ricoveratiNazionali = ricoveratiNazionali.T\n",
    "ricoveratiNazionali.head(20)\n",
    "\n",
    "ricoveratiNazionali.to_csv(\"ts_nazioni_ricoverat.csv\")"
   ]
  },
  {
   "cell_type": "code",
   "execution_count": 22,
   "metadata": {},
   "outputs": [],
   "source": [
    "terapiaNazionali = timeseriesPCNazionaleDataset[[\"data\", \"terapia_intensiva\"]].copy()\n",
    "terapiaNazionali.head(100)\n",
    "terapiaNazionali.set_index(\"data\", inplace = True)\n",
    "terapiaNazionali = terapiaNazionali.T\n",
    "terapiaNazionali.head(20)\n",
    "\n",
    "terapiaNazionali.to_csv(\"ts_nazioni_terapia.csv\")"
   ]
  },
  {
   "cell_type": "code",
   "execution_count": null,
   "metadata": {},
   "outputs": [],
   "source": []
  },
  {
   "cell_type": "code",
   "execution_count": null,
   "metadata": {},
   "outputs": [],
   "source": []
  },
  {
   "cell_type": "code",
   "execution_count": null,
   "metadata": {},
   "outputs": [],
   "source": []
  }
 ],
 "metadata": {
  "kernelspec": {
   "display_name": "Python 3",
   "language": "python",
   "name": "python3"
  },
  "language_info": {
   "codemirror_mode": {
    "name": "ipython",
    "version": 3
   },
   "file_extension": ".py",
   "mimetype": "text/x-python",
   "name": "python",
   "nbconvert_exporter": "python",
   "pygments_lexer": "ipython3",
   "version": "3.7.6"
  }
 },
 "nbformat": 4,
 "nbformat_minor": 4
}
