{
 "cells": [
  {
   "cell_type": "code",
   "execution_count": 2,
   "metadata": {},
   "outputs": [
    {
     "name": "stdout",
     "output_type": "stream",
     "text": [
      "                  data stato  codice_regione denominazione_regione        lat  \\\n",
      "0  2020-02-24 18:00:00   ITA              13               Abruzzo  42.351222   \n",
      "1  2020-02-24 18:00:00   ITA              17            Basilicata  40.639471   \n",
      "2  2020-02-24 18:00:00   ITA               4          P.A. Bolzano  46.499335   \n",
      "3  2020-02-24 18:00:00   ITA              18              Calabria  38.905976   \n",
      "4  2020-02-24 18:00:00   ITA              15              Campania  40.839566   \n",
      "\n",
      "        long  ricoverati_con_sintomi  terapia_intensiva  totale_ospedalizzati  \\\n",
      "0  13.398438                       0                  0                     0   \n",
      "1  15.805148                       0                  0                     0   \n",
      "2  11.356624                       0                  0                     0   \n",
      "3  16.594402                       0                  0                     0   \n",
      "4  14.250850                       0                  0                     0   \n",
      "\n",
      "   isolamento_domiciliare  totale_attualmente_positivi  \\\n",
      "0                       0                            0   \n",
      "1                       0                            0   \n",
      "2                       0                            0   \n",
      "3                       0                            0   \n",
      "4                       0                            0   \n",
      "\n",
      "   nuovi_attualmente_positivi  dimessi_guariti  deceduti  totale_casi  tamponi  \n",
      "0                           0                0         0            0        5  \n",
      "1                           0                0         0            0        0  \n",
      "2                           0                0         0            0        1  \n",
      "3                           0                0         0            0        1  \n",
      "4                           0                0         0            0       10  \n"
     ]
    }
   ],
   "source": [
    "import pandas as pd\n",
    "import numpy as np\n",
    "\n",
    "province = pd.read_csv(\"dpc-covid19-ita-regioni.csv\")\n",
    "\n",
    "print(province.head())"
   ]
  },
  {
   "cell_type": "code",
   "execution_count": 3,
   "metadata": {},
   "outputs": [],
   "source": [
    "province = province.drop(columns=\"stato\")\n",
    "province = province.drop(columns=\"codice_regione\")\n",
    "province = province.drop(columns=\"lat\")\n",
    "province = province.drop(columns=\"long\")"
   ]
  },
  {
   "cell_type": "code",
   "execution_count": 4,
   "metadata": {},
   "outputs": [
    {
     "name": "stdout",
     "output_type": "stream",
     "text": [
      "        data denominazione_regione  ricoverati_con_sintomi  terapia_intensiva  \\\n",
      "0 2020-02-24               Abruzzo                       0                  0   \n",
      "1 2020-02-24            Basilicata                       0                  0   \n",
      "2 2020-02-24          P.A. Bolzano                       0                  0   \n",
      "3 2020-02-24              Calabria                       0                  0   \n",
      "4 2020-02-24              Campania                       0                  0   \n",
      "\n",
      "   totale_ospedalizzati  isolamento_domiciliare  totale_attualmente_positivi  \\\n",
      "0                     0                       0                            0   \n",
      "1                     0                       0                            0   \n",
      "2                     0                       0                            0   \n",
      "3                     0                       0                            0   \n",
      "4                     0                       0                            0   \n",
      "\n",
      "   nuovi_attualmente_positivi  dimessi_guariti  deceduti  totale_casi  tamponi  \n",
      "0                           0                0         0            0        5  \n",
      "1                           0                0         0            0        0  \n",
      "2                           0                0         0            0        1  \n",
      "3                           0                0         0            0        1  \n",
      "4                           0                0         0            0       10  \n"
     ]
    }
   ],
   "source": [
    "province[\"data\"] = pd.to_datetime(province[\"data\"], format='%Y-%m-%d').dt.normalize()\n",
    "print(province.head())"
   ]
  },
  {
   "cell_type": "code",
   "execution_count": 5,
   "metadata": {},
   "outputs": [],
   "source": [
    "province.to_csv(\"dpc-covid19-ita-regioni_clean.csv\",index=False)"
   ]
  },
  {
   "cell_type": "code",
   "execution_count": null,
   "metadata": {},
   "outputs": [],
   "source": []
  }
 ],
 "metadata": {
  "kernelspec": {
   "display_name": "Python 3",
   "language": "python",
   "name": "python3"
  },
  "language_info": {
   "codemirror_mode": {
    "name": "ipython",
    "version": 3
   },
   "file_extension": ".py",
   "mimetype": "text/x-python",
   "name": "python",
   "nbconvert_exporter": "python",
   "pygments_lexer": "ipython3",
   "version": "3.7.6"
  }
 },
 "nbformat": 4,
 "nbformat_minor": 4
}
