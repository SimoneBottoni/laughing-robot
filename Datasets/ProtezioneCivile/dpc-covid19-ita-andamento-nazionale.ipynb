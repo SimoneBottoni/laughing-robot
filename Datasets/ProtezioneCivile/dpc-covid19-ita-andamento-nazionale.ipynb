{
 "cells": [
  {
   "cell_type": "code",
   "execution_count": 2,
   "metadata": {},
   "outputs": [
    {
     "name": "stdout",
     "output_type": "stream",
     "text": [
      "                  data stato  ricoverati_con_sintomi  terapia_intensiva  \\\n",
      "0  2020-02-24 18:00:00   ITA                     101                 26   \n",
      "1  2020-02-25 18:00:00   ITA                     114                 35   \n",
      "2  2020-02-26 18:00:00   ITA                     128                 36   \n",
      "3  2020-02-27 18:00:00   ITA                     248                 56   \n",
      "4  2020-02-28 18:00:00   ITA                     345                 64   \n",
      "\n",
      "   totale_ospedalizzati  isolamento_domiciliare  totale_attualmente_positivi  \\\n",
      "0                   127                      94                          221   \n",
      "1                   150                     162                          311   \n",
      "2                   164                     221                          385   \n",
      "3                   304                     284                          588   \n",
      "4                   409                     412                          821   \n",
      "\n",
      "   nuovi_attualmente_positivi  dimessi_guariti  deceduti  totale_casi  tamponi  \n",
      "0                         221                1         7          229     4324  \n",
      "1                          90                1        10          322     8623  \n",
      "2                          74                3        12          400     9587  \n",
      "3                         203               45        17          650    12014  \n",
      "4                         233               46        21          888    15695  \n"
     ]
    }
   ],
   "source": [
    "import pandas as pd\n",
    "import numpy as np\n",
    "\n",
    "andamento_nazionale = pd.read_csv(\"dpc-covid19-ita-andamento-nazionale.csv\")\n",
    "\n",
    "print(andamento_nazionale.head())"
   ]
  },
  {
   "cell_type": "code",
   "execution_count": 3,
   "metadata": {},
   "outputs": [],
   "source": [
    "andamento_nazionale = andamento_nazionale.drop(columns=\"stato\")"
   ]
  },
  {
   "cell_type": "code",
   "execution_count": 7,
   "metadata": {},
   "outputs": [],
   "source": [
    "andamento_nazionale[\"data\"] = pd.to_datetime(andamento_nazionale[\"data\"], format='%Y-%m-%d').dt.normalize()"
   ]
  },
  {
   "cell_type": "code",
   "execution_count": 8,
   "metadata": {},
   "outputs": [
    {
     "name": "stdout",
     "output_type": "stream",
     "text": [
      "        data  ricoverati_con_sintomi  terapia_intensiva  totale_ospedalizzati  \\\n",
      "0 2020-02-24                     101                 26                   127   \n",
      "1 2020-02-25                     114                 35                   150   \n",
      "2 2020-02-26                     128                 36                   164   \n",
      "3 2020-02-27                     248                 56                   304   \n",
      "4 2020-02-28                     345                 64                   409   \n",
      "\n",
      "   isolamento_domiciliare  totale_attualmente_positivi  \\\n",
      "0                      94                          221   \n",
      "1                     162                          311   \n",
      "2                     221                          385   \n",
      "3                     284                          588   \n",
      "4                     412                          821   \n",
      "\n",
      "   nuovi_attualmente_positivi  dimessi_guariti  deceduti  totale_casi  tamponi  \n",
      "0                         221                1         7          229     4324  \n",
      "1                          90                1        10          322     8623  \n",
      "2                          74                3        12          400     9587  \n",
      "3                         203               45        17          650    12014  \n",
      "4                         233               46        21          888    15695  \n"
     ]
    }
   ],
   "source": [
    "print(andamento_nazionale.head())"
   ]
  },
  {
   "cell_type": "code",
   "execution_count": 9,
   "metadata": {},
   "outputs": [],
   "source": [
    "andamento_nazionale.to_csv(\"dpc-covid19-ita-andamento-nazionale_clean.csv\",index=False)"
   ]
  },
  {
   "cell_type": "code",
   "execution_count": null,
   "metadata": {},
   "outputs": [],
   "source": []
  }
 ],
 "metadata": {
  "kernelspec": {
   "display_name": "Python 3",
   "language": "python",
   "name": "python3"
  },
  "language_info": {
   "codemirror_mode": {
    "name": "ipython",
    "version": 3
   },
   "file_extension": ".py",
   "mimetype": "text/x-python",
   "name": "python",
   "nbconvert_exporter": "python",
   "pygments_lexer": "ipython3",
   "version": "3.7.6"
  }
 },
 "nbformat": 4,
 "nbformat_minor": 4
}
