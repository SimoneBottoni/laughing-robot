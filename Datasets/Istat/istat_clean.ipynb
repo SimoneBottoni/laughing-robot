{
 "cells": [
  {
   "cell_type": "code",
   "execution_count": 15,
   "metadata": {},
   "outputs": [],
   "source": [
    "import pandas\n",
    "\n",
    "istatDataset = pandas.read_csv(\"DCIS_POPRES1_23032020145607847.csv\")\n",
    "\n",
    "istatDataset = istatDataset.drop([\"TIME\", \"Seleziona periodo\", \"Flag Codes\", \"Flags\", \"TIPO_DATO15\", \"Tipo di indicatore demografico\"], axis=1)\n",
    "\n",
    "istatDataset.to_csv('istat_clean.csv', index=False)"
   ]
  }
 ],
 "metadata": {
  "kernelspec": {
   "display_name": "Python 3",
   "language": "python",
   "name": "python3"
  },
  "language_info": {
   "codemirror_mode": {
    "name": "ipython",
    "version": 3
   },
   "file_extension": ".py",
   "mimetype": "text/x-python",
   "name": "python",
   "nbconvert_exporter": "python",
   "pygments_lexer": "ipython3",
   "version": "3.7.6"
  }
 },
 "nbformat": 4,
 "nbformat_minor": 4
}
