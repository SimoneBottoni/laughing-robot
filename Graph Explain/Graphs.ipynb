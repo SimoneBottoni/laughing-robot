{
 "cells": [
  {
   "cell_type": "markdown",
   "metadata": {},
   "source": [
    "# Descrizione Grafici"
   ]
  },
  {
   "cell_type": "markdown",
   "metadata": {},
   "source": [
    "#### Confronto tra Mondo, Italia e Francia"
   ]
  },
  {
   "cell_type": "markdown",
   "metadata": {},
   "source": [
    "Con questo primo istogramma andiamo a visualizzare il numero di contagi, guarigioni e decessi nel mondo e lo confrontiamo con i dati relativi all'Italia e alla Francia.\n",
    "\n",
    "Viene evidenziato come il numero dei decessi in Italia sia quasi un terzo dei decessi mondiali."
   ]
  },
  {
   "cell_type": "markdown",
   "metadata": {},
   "source": [
    "<img src=\"img/extra.png\" style='width:75%;'>"
   ]
  },
  {
   "cell_type": "markdown",
   "metadata": {},
   "source": [
    "#### Analisi dati Francia"
   ]
  },
  {
   "cell_type": "markdown",
   "metadata": {},
   "source": [
    "Con questo primo grafico andiamo a visualizzare la crescita esponenziale del numero di attualmente positivi in Francia, fino al giorno 26/03/2020."
   ]
  },
  {
   "cell_type": "markdown",
   "metadata": {},
   "source": [
    "<img src=\"img/francia1.png\" style='width:75%;'>"
   ]
  },
  {
   "cell_type": "markdown",
   "metadata": {},
   "source": [
    "Con i seguenti istogrammi andiamo a confrontare l'incremento dei casi totali nelle quattro regioni francesi maggiormente colpite."
   ]
  },
  {
   "cell_type": "markdown",
   "metadata": {},
   "source": [
    "<img src=\"img/francia2.png\" style='width:75%;'>"
   ]
  },
  {
   "cell_type": "markdown",
   "metadata": {},
   "source": [
    "#### Confronto casi confermati nei 10 stati più colpiti"
   ]
  },
  {
   "cell_type": "markdown",
   "metadata": {},
   "source": [
    "Con questo istogramma andiamo a cercare una eventuale correlazione tra il numero di contagiati, il PIL dello stato e la spesa pubblica per la sanità."
   ]
  },
  {
   "cell_type": "markdown",
   "metadata": {},
   "source": [
    "<img src=\"img/gdp.png\" style='width:75%;'>"
   ]
  },
  {
   "cell_type": "markdown",
   "metadata": {},
   "source": [
    "#### Analisi casi in Cina al di fuori della regione di Hubei"
   ]
  },
  {
   "cell_type": "markdown",
   "metadata": {},
   "source": [
    "Con questo primo istogramma vogliamo evidenziare il numero dei contagiati che hanno o non hanno visitato Wuhan."
   ]
  },
  {
   "cell_type": "markdown",
   "metadata": {},
   "source": [
    "<img src=\"img/cina1.png\" style='width:75%;'>"
   ]
  },
  {
   "cell_type": "markdown",
   "metadata": {},
   "source": [
    "Nel secondo istogramma possiamo analizzare la distribuzione del numero dei contagi nelle diverse fasce di età."
   ]
  },
  {
   "cell_type": "markdown",
   "metadata": {},
   "source": [
    "<img src=\"img/cina2.png\" style='width:75%;'>"
   ]
  },
  {
   "cell_type": "markdown",
   "metadata": {},
   "source": [
    "Infine, con il seguente grafico a torta vediamo in che percentuale è stata colpita la polazione in base al genere."
   ]
  },
  {
   "cell_type": "markdown",
   "metadata": {},
   "source": [
    "<img src=\"img/cina3.png\" style='width:75%;'>"
   ]
  },
  {
   "cell_type": "markdown",
   "metadata": {},
   "source": [
    "#### Confronto tra i paesi più colpiti dalla pandemia"
   ]
  },
  {
   "cell_type": "markdown",
   "metadata": {},
   "source": [
    "Questo grafico rappresenta le curve di contagio dei tre paesi più colpiti al 26/03/2020, in questo caso abbiamo USA, Cina ed Italia.\n",
    "\n",
    "Possiamo vedere come i casi in Cina si stiano stabilizzando dal 20/02/2020, ciò è dovuto probabilmente alla quarantena immediata imposta dal governo cinese.\n",
    "\n",
    "Mentre, per quanto riguarda gli USA e l'Italia abbiamo una crescita maggiormente esponenziale, soprattutto negli USA in quanto non sono state applicate misure di contenimento in modo tempestivo."
   ]
  },
  {
   "cell_type": "markdown",
   "metadata": {},
   "source": [
    "<img src=\"img/kaggle1.png\" style='width:75%;'>"
   ]
  },
  {
   "cell_type": "markdown",
   "metadata": {},
   "source": [
    "Questo grafico rappresenta le curve dei tre paesi con il numero maggiore di decessi al 26/03/2020, in questo caso abbiamo Italia, Spagna e Cina."
   ]
  },
  {
   "cell_type": "markdown",
   "metadata": {},
   "source": [
    "<img src=\"img/kaggle2.png\" style='width:75%;'>"
   ]
  },
  {
   "cell_type": "markdown",
   "metadata": {},
   "source": [
    "Quest'ultimo grafico rappresenta le curve dei tre paesi con il maggior numero di guarigioni. In questo caso abbiamo Cina, Iran ed Italia."
   ]
  },
  {
   "cell_type": "markdown",
   "metadata": {},
   "source": [
    "<img src=\"img/kaggle3.png\" style='width:75%;'>"
   ]
  },
  {
   "cell_type": "markdown",
   "metadata": {},
   "source": [
    "#### Analisi situazione italiana"
   ]
  },
  {
   "cell_type": "markdown",
   "metadata": {},
   "source": [
    "Con questo primo grafico evidenziamo l'andamento del numero totale degli attualmente positivi in Italia, fino al giorno 26/03/2020."
   ]
  },
  {
   "cell_type": "markdown",
   "metadata": {},
   "source": [
    "<img src=\"img/pc1.png\" style='width:75%;'>"
   ]
  },
  {
   "cell_type": "markdown",
   "metadata": {},
   "source": [
    "Con questo istogramma andiamo a comparare gli attualmente positivi al COVID-19, con il numero di guariti e il numero di deceduti."
   ]
  },
  {
   "cell_type": "markdown",
   "metadata": {},
   "source": [
    "<img src=\"img/pc2.png\" style='width:75%;'>"
   ]
  },
  {
   "cell_type": "markdown",
   "metadata": {},
   "source": [
    "Con il seguente grafico compariamo il numero totale dei tamponi effettuati con il numero totale dei casi positivi al COVID-19, fino al 26/03/2020"
   ]
  },
  {
   "cell_type": "markdown",
   "metadata": {},
   "source": [
    "<img src=\"img/pc3.png\" style='width:75%;'>"
   ]
  },
  {
   "cell_type": "markdown",
   "metadata": {},
   "source": [
    "Andamento dei nuovi casi giornalieri rilevati nelle quattro regioni più colpite."
   ]
  },
  {
   "cell_type": "markdown",
   "metadata": {},
   "source": [
    "<img src=\"img/pc4.png\" style='width:75%;'>"
   ]
  },
  {
   "cell_type": "markdown",
   "metadata": {},
   "source": [
    "Anche con i seguenti istogrammi vediamo l'andamento dei nuovi contagi giornalieri nelle quattro regioni più colpite."
   ]
  },
  {
   "cell_type": "markdown",
   "metadata": {},
   "source": [
    "<img src=\"img/pc5.png\" style='width:75%;'>"
   ]
  }
 ],
 "metadata": {
  "kernelspec": {
   "display_name": "Python 3",
   "language": "python",
   "name": "python3"
  },
  "language_info": {
   "codemirror_mode": {
    "name": "ipython",
    "version": 3
   },
   "file_extension": ".py",
   "mimetype": "text/x-python",
   "name": "python",
   "nbconvert_exporter": "python",
   "pygments_lexer": "ipython3",
   "version": "3.7.6"
  }
 },
 "nbformat": 4,
 "nbformat_minor": 4
}
